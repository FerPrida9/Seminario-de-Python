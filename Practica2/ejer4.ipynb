{
 "cells": [
  {
   "cell_type": "markdown",
   "metadata": {},
   "source": [
    "# copio y pego el codigo del ejercicio"
   ]
  },
  {
   "cell_type": "code",
   "execution_count": 1,
   "metadata": {},
   "outputs": [
    {
     "name": "stdout",
     "output_type": "stream",
     "text": [
      "Hay al menos una letra a.\n"
     ]
    }
   ],
   "source": [
    "word = input(\"Ingresá una palabra: \")\n",
    "if \"a\" in word:\n",
    "    print(\"Hay al menos una letra a.\")\n",
    "else:\n",
    "    print(\"No hay letras a. \")"
   ]
  },
  {
   "cell_type": "markdown",
   "metadata": {},
   "source": [
    "# modifico el codigo para saber si contiene tambien la letra n"
   ]
  },
  {
   "cell_type": "code",
   "execution_count": 11,
   "metadata": {},
   "outputs": [
    {
     "name": "stdout",
     "output_type": "stream",
     "text": [
      "Hay al menos una letra 'a' y una letra 'n'\n"
     ]
    }
   ],
   "source": [
    "word = input ('ingresa una palabra: ')\n",
    "if \"a\" in word and \"n\" in word: \n",
    "    print (\"Hay al menos una letra 'a' y una letra 'n'\" )\n",
    "elif \"a\" in word:\n",
    "    print (\"Hay al menos una letra 'a' pero no hay letras 'n'\")\n",
    "elif \"n\" in word:\n",
    "    print (\"Hay al menos una letra 'n' pero no hay letras 'a'\")\n",
    "else:\n",
    "    print (\"No hay letras 'a' ni 'n'\")"
   ]
  }
 ],
 "metadata": {
  "kernelspec": {
   "display_name": "venv",
   "language": "python",
   "name": "python3"
  },
  "language_info": {
   "codemirror_mode": {
    "name": "ipython",
    "version": 3
   },
   "file_extension": ".py",
   "mimetype": "text/x-python",
   "name": "python",
   "nbconvert_exporter": "python",
   "pygments_lexer": "ipython3",
   "version": "3.11.7"
  }
 },
 "nbformat": 4,
 "nbformat_minor": 2
}
