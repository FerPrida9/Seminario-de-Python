{
 "cells": [
  {
   "cell_type": "code",
   "execution_count": 62,
   "metadata": {},
   "outputs": [],
   "source": [
    "article = \"\"\" titulo: Experiences in Developing a Distributed Agentbased Modeling Toolkit with Python Version 3\n",
    "resumen: Distributed agent-based modeling (ABM) on high-performance\n",
    "computing resources provides the promise of capturing unprecedented\n",
    "details of large-scale complex systems. However, the specialized\n",
    "knowledge required for developing such ABMs creates barriers to wider\n",
    "adoption and utilization. Here we present our experiences in\n",
    "developing an initial implementation of Repast4Py, a Python-based\n",
    "distributed ABM toolkit. We build on our experiences in developing ABM\n",
    "toolkits, including Repast for High Performance Computing (Repast\n",
    "HPC), to identify the key elements of a useful distributed ABM\n",
    "toolkit. We leverage the Numba, NumPy, and PyTorch packages and the\n",
    "Python C-API to create a scalable modeling system that can exploit the\n",
    "largest HPC resources and emerging computing architectures. \"\"\"\n"
   ]
  },
  {
   "cell_type": "markdown",
   "metadata": {},
   "source": [
    "# Limpio el texto de caracteres que no necesito"
   ]
  },
  {
   "cell_type": "code",
   "execution_count": 63,
   "metadata": {},
   "outputs": [],
   "source": [
    "clean_text = article.replace('titulo:', '').replace('\\n','').replace('0','').replace('1','').replace('2','').replace('3','').replace('4','').replace('5','').replace('6','').replace('7','').replace('8','').replace('9','')"
   ]
  },
  {
   "cell_type": "markdown",
   "metadata": {},
   "source": [
    "# Creo una lista del titulo y otra del resumen"
   ]
  },
  {
   "cell_type": "code",
   "execution_count": 64,
   "metadata": {},
   "outputs": [
    {
     "name": "stdout",
     "output_type": "stream",
     "text": [
      "['Experiences', 'in', 'Developing', 'a', 'Distributed', 'Agentbased', 'Modeling', 'Toolkit', 'with', 'Python', 'Version']\n",
      "['Distributed agent-based modeling (ABM) on high-performancecomputing resources provides the promise of capturing unprecedenteddetails of large-scale complex systems', ' However, the specializedknowledge required for developing such ABMs creates barriers to wideradoption and utilization', ' Here we present our experiences indeveloping an initial implementation of RepastPy, a Python-baseddistributed ABM toolkit', ' We build on our experiences in developing ABMtoolkits, including Repast for High Performance Computing (RepastHPC), to identify the key elements of a useful distributed ABMtoolkit', ' We leverage the Numba, NumPy, and PyTorch packages and thePython C-API to create a scalable modeling system that can exploit thelargest HPC resources and emerging computing architectures']\n",
      "5\n"
     ]
    }
   ],
   "source": [
    "divided_list = clean_text.split('resumen: ')\n",
    "title_list = divided_list[0]\n",
    "resume_list = divided_list[1]\n",
    "title_list = title_list.split()\n",
    "resume_list = resume_list.split('.')\n",
    "resume_list.pop(-1)\n",
    "print (title_list)\n",
    "print (resume_list)\n",
    "print (len(resume_list))"
   ]
  },
  {
   "cell_type": "markdown",
   "metadata": {},
   "source": [
    "# Creo un diccionario de categorias para ir guardando la informacion y luego informo"
   ]
  },
  {
   "cell_type": "code",
   "execution_count": 65,
   "metadata": {},
   "outputs": [
    {
     "name": "stdout",
     "output_type": "stream",
     "text": [
      "title: not ok\n",
      "Cantidad de oraciones faciles de leer: 0, aceptables para leer: 3, dificiles de leer: 1, muy dificil de leer: 1\n"
     ]
    }
   ],
   "source": [
    "if len(title_list) < 10:\n",
    "    print ('title: ok')\n",
    "else:\n",
    "    print ('title: not ok')\n",
    "\n",
    "categorias = {'facil de leer': 0, 'aceptable para leer': 0, 'dificil de leer': 0, 'muy dificil': 0}\n",
    "\n",
    "for sentence in resume_list:\n",
    "    words = sentence.strip().split(' ')  # Uso strip para que no me guarde en la lista lugares vacios\n",
    "    cant = len(words)\n",
    "    if cant <= 12:\n",
    "        categorias['facil de leer'] += 1\n",
    "    elif cant >= 13 and cant <= 17:\n",
    "        categorias['aceptable para leer'] += 1\n",
    "    elif cant >= 18 and cant <= 25:\n",
    "        categorias['dificil de leer'] += 1\n",
    "    else:\n",
    "        categorias['muy dificil'] += 1\n",
    "\n",
    "print (f'Cantidad de oraciones faciles de leer: {categorias[\"facil de leer\"]}, aceptables para leer: {categorias[\"aceptable para leer\"]}, dificiles de leer: {categorias[\"dificil de leer\"]}, muy dificil de leer: {categorias[\"muy dificil\"]}')\n"
   ]
  }
 ],
 "metadata": {
  "kernelspec": {
   "display_name": "venv",
   "language": "python",
   "name": "python3"
  },
  "language_info": {
   "codemirror_mode": {
    "name": "ipython",
    "version": 3
   },
   "file_extension": ".py",
   "mimetype": "text/x-python",
   "name": "python",
   "nbconvert_exporter": "python",
   "pygments_lexer": "ipython3",
   "version": "3.11.7"
  }
 },
 "nbformat": 4,
 "nbformat_minor": 2
}
