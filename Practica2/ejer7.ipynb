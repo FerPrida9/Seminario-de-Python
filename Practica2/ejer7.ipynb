{
 "cells": [
  {
   "cell_type": "markdown",
   "metadata": {},
   "source": [
    "# Copio el texto en la variable text"
   ]
  },
  {
   "cell_type": "code",
   "execution_count": null,
   "metadata": {},
   "outputs": [],
   "source": [
    "text = \"\"\" La brecha salarial alcanzó el 27,7%: las mujeres ocupadas\n",
    "debieron trabajar 8 días y 10 horas más que los varones ocupados para\n",
    "ganar lo mismo que ellos en un mes. \"\"\"\n",
    "\n",
    "print (len(text))"
   ]
  },
  {
   "cell_type": "markdown",
   "metadata": {},
   "source": [
    "# Recorro el texto y cuento la cantidad de mayusculas, minusculas y caracteres no letras"
   ]
  },
  {
   "cell_type": "code",
   "execution_count": null,
   "metadata": {},
   "outputs": [],
   "source": [
    "import string\n",
    "\n",
    "upper_case = 0\n",
    "lower_case = 0\n",
    "not_letter = 0\n",
    "\n",
    "for letter in text:\n",
    "    if letter in string.ascii_uppercase:\n",
    "        upper_case += 1\n",
    "    elif letter in string.ascii_lowercase:\n",
    "        lower_case += 1\n",
    "    else:\n",
    "        not_letter += 1\n",
    "\n",
    "print (f'cantidad de mayusculas: {upper_case}')\n",
    "print (f'cantidad de minusculas: {lower_case}')\n",
    "print (f'cantidad de caracteres no letras: {not_letter}')"
   ]
  },
  {
   "cell_type": "markdown",
   "metadata": {},
   "source": [
    "# Limpio el texto de caracteres especiales, guardo las palabras en una lista e imprimo la cantidad de palabras"
   ]
  },
  {
   "cell_type": "code",
   "execution_count": null,
   "metadata": {},
   "outputs": [],
   "source": [
    "clean_text = text.replace('0', '').replace('1', '').replace('2', '').replace('3', '').replace('4', '').replace('5', '').replace('6', '').replace('7', '').replace('8', '').replace('9', '').replace(',','').replace(':', '').replace('.', '').replace('%', '')\n",
    "word_list = clean_text.split()\n",
    "print (f'la cantidad de palabras es: {len(word_list)}')"
   ]
  }
 ],
 "metadata": {
  "kernelspec": {
   "display_name": "venv",
   "language": "python",
   "name": "python3"
  },
  "language_info": {
   "codemirror_mode": {
    "name": "ipython",
    "version": 3
   },
   "file_extension": ".py",
   "mimetype": "text/x-python",
   "name": "python",
   "nbconvert_exporter": "python",
   "pygments_lexer": "ipython3",
   "version": "3.11.7"
  }
 },
 "nbformat": 4,
 "nbformat_minor": 2
}
