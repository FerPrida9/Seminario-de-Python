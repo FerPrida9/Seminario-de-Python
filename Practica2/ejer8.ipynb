{
 "cells": [
  {
   "cell_type": "markdown",
   "metadata": {},
   "source": [
    "# Le pido al usuario que ingrese una frase o una palabra, la paso a minuscula y separo las palabras en una lista"
   ]
  },
  {
   "cell_type": "code",
   "execution_count": null,
   "metadata": {},
   "outputs": [],
   "source": [
    "word_or_phrase = input ('ingrese una palabra o frase')\n",
    "word_or_phrase = word_or_phrase.lower()\n",
    "word_or_phrase = word_or_phrase.split()\n",
    "print (word_or_phrase)"
   ]
  },
  {
   "cell_type": "markdown",
   "metadata": {},
   "source": [
    "# Recorro caracter por caracter y chequeo si la frase o palabra es un heterograma"
   ]
  },
  {
   "cell_type": "code",
   "execution_count": null,
   "metadata": {},
   "outputs": [],
   "source": [
    "import string\n",
    "is_heterogram = True\n",
    "\n",
    "if len(word_or_phrase) == 1:\n",
    "    word = word_or_phrase[0]\n",
    "    for letter in word:\n",
    "        if letter in string.ascii_letters:\n",
    "            cant = word.count(letter)\n",
    "            if cant > 1:\n",
    "                is_heterogram = False\n",
    "                break\n",
    "else:\n",
    "    for word in word_or_phrase:\n",
    "        for letter in word:\n",
    "            if letter in string.ascii_letters:\n",
    "                cant = word.count(letter)\n",
    "                if cant > 1:\n",
    "                    is_heterogram = False\n",
    "                    break\n",
    "\n",
    "if is_heterogram:\n",
    "    print ('la frase o palabra es un heterograma')\n",
    "else:\n",
    "    print ('la palabra o frase no es un heterograma')"
   ]
  }
 ],
 "metadata": {
  "kernelspec": {
   "display_name": "venv",
   "language": "python",
   "name": "python3"
  },
  "language_info": {
   "codemirror_mode": {
    "name": "ipython",
    "version": 3
   },
   "file_extension": ".py",
   "mimetype": "text/x-python",
   "name": "python",
   "nbconvert_exporter": "python",
   "pygments_lexer": "ipython3",
   "version": "3.11.7"
  }
 },
 "nbformat": 4,
 "nbformat_minor": 2
}
