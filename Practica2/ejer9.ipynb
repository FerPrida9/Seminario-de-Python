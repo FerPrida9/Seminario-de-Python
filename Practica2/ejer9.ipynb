{
 "cells": [
  {
   "cell_type": "markdown",
   "metadata": {},
   "source": [
    "# Pido al usuario que ingrese una palabra y la paso a mayuscula"
   ]
  },
  {
   "cell_type": "code",
   "execution_count": 4,
   "metadata": {},
   "outputs": [],
   "source": [
    "word = input ('ingrese una palabra')\n",
    "word = word.upper()"
   ]
  },
  {
   "cell_type": "markdown",
   "metadata": {},
   "source": [
    "# Defino la tabla de valores"
   ]
  },
  {
   "cell_type": "code",
   "execution_count": 5,
   "metadata": {},
   "outputs": [],
   "source": [
    "one_point = ('AEIOULNRST')\n",
    "two_points = ('DG')\n",
    "three_points = ('BCMP')\n",
    "four_points = ('FHVWY')\n",
    "five_points = ('K')\n",
    "eight_points = ('JX')\n",
    "ten_points = ('QZ')"
   ]
  },
  {
   "cell_type": "markdown",
   "metadata": {},
   "source": [
    "# Recorro la palabra letra por letra y voy sumando los valores en una variable"
   ]
  },
  {
   "cell_type": "code",
   "execution_count": null,
   "metadata": {},
   "outputs": [],
   "source": [
    "total_points = 0\n",
    "\n",
    "for letter in word:\n",
    "    if letter in one_point:\n",
    "        total_points += 1\n",
    "    elif letter in two_points:\n",
    "        total_points += 2\n",
    "    elif letter in three_points:\n",
    "        total_points += 3\n",
    "    elif letter in four_points:\n",
    "        total_points += 4\n",
    "    elif letter in five_points:\n",
    "        total_points += 5\n",
    "    elif letter in eight_points:\n",
    "        total_points += 8\n",
    "    else: \n",
    "        total_points += 10\n",
    "\n",
    "print (f'palabra: {word}')\n",
    "print (f'valor: {total_points}')"
   ]
  }
 ],
 "metadata": {
  "kernelspec": {
   "display_name": "venv",
   "language": "python",
   "name": "python3"
  },
  "language_info": {
   "codemirror_mode": {
    "name": "ipython",
    "version": 3
   },
   "file_extension": ".py",
   "mimetype": "text/x-python",
   "name": "python",
   "nbconvert_exporter": "python",
   "pygments_lexer": "ipython3",
   "version": "3.11.7"
  }
 },
 "nbformat": 4,
 "nbformat_minor": 2
}
